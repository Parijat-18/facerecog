{
 "cells": [
  {
   "cell_type": "code",
   "execution_count": 10,
   "metadata": {},
   "outputs": [],
   "source": [
    "from sklearn.model_selection import train_test_split\n",
    "from mtcnn.mtcnn import MTCNN\n",
    "from sklearn.preprocessing import Normalizer , LabelEncoder\n",
    "from sklearn.metrics import accuracy_score\n",
    "from sklearn.svm import SVC\n",
    "from keras_facenet import FaceNet\n",
    "import numpy as np\n",
    "import wget\n",
    "import cv2 as cv\n",
    "import os"
   ]
  },
  {
   "cell_type": "code",
   "execution_count": 2,
   "metadata": {},
   "outputs": [],
   "source": [
    "IMAGES_PATH = os.path.join(\"images\")\n",
    "CROPPED_IMAGE_PATH = os.path.join(\"images\" , \"cropped_images\")\n",
    "MODEL_PATH = os.path.join(\"facenet\")"
   ]
  },
  {
   "cell_type": "code",
   "execution_count": 3,
   "metadata": {},
   "outputs": [
    {
     "name": "stdout",
     "output_type": "stream",
     "text": [
      "{'benedict_cumberbatch': 0, 'chris_evans': 1, 'chris_hemsworth': 2, 'robert_downey': 3, 'tom_hiddleston': 4}\n"
     ]
    }
   ],
   "source": [
    "\n",
    "if os.path.exists(CROPPED_IMAGE_PATH):\n",
    "    labels = {\"_\".join(label.split(\"_\")[1:]):i for i , label in enumerate(os.listdir(CROPPED_IMAGE_PATH))}\n",
    "print(labels)\n",
    "X = []\n",
    "Y = []"
   ]
  },
  {
   "cell_type": "code",
   "execution_count": 4,
   "metadata": {},
   "outputs": [
    {
     "name": "stderr",
     "output_type": "stream",
     "text": [
      "C:\\Users\\parij\\AppData\\Local\\Temp\\ipykernel_21524\\988532183.py:8: VisibleDeprecationWarning: Creating an ndarray from ragged nested sequences (which is a list-or-tuple of lists-or-tuples-or ndarrays with different lengths or shapes) is deprecated. If you meant to do this, you must specify 'dtype=object' when creating the ndarray.\n",
      "  X = np.asarray(X)\n"
     ]
    }
   ],
   "source": [
    "for label , index in labels.items():\n",
    "    path = os.path.join(CROPPED_IMAGE_PATH , f\"cropped_{label}\")\n",
    "    if os.path.exists(path):\n",
    "        images = os.listdir(path)\n",
    "        for image in images:\n",
    "            X.append(cv.imread(os.path.join(path , image)))\n",
    "            Y.append(index)\n",
    "X = np.asarray(X)\n",
    "Y = np.asarray(Y)      \n",
    "img = cv.imread(\"deepika(1).pdf\")\n",
    "X_train , X_test , Y_train , Y_test = train_test_split(X , Y , train_size=0.8, shuffle=True)      "
   ]
  },
  {
   "cell_type": "code",
   "execution_count": 5,
   "metadata": {},
   "outputs": [],
   "source": [
    "# def preprocessing(X):\n",
    "#     X = np.resize(X , (160 , 160 , 3))\n",
    "#     X = X.astype(\"float32\")\n",
    "#     mean , std = X.mean() , X.std()\n",
    "#     X = (X - mean)/std\n",
    "#     return X\n",
    "\n",
    "def get_embedding(model , X):\n",
    "    samples = np.expand_dims(X , axis=0)\n",
    "    return model.embeddings(samples)[0]"
   ]
  },
  {
   "cell_type": "code",
   "execution_count": 6,
   "metadata": {},
   "outputs": [
    {
     "name": "stdout",
     "output_type": "stream",
     "text": [
      "Training Shape:  (49, 512)\n",
      "Testing Shape:  (13, 512)\n"
     ]
    }
   ],
   "source": [
    "facenet_model = FaceNet()\n",
    "new_trainX = []\n",
    "new_testX = []\n",
    "for pixels in X_train:\n",
    "    new_trainX.append(get_embedding(facenet_model , pixels))\n",
    "for pixels in X_test:\n",
    "    new_testX.append(get_embedding(facenet_model , pixels))\n",
    "X_train = np.asarray(new_trainX)\n",
    "X_test = np.asarray(new_testX)\n",
    "print(\"Training Shape: \" , str(X_train.shape))\n",
    "print(\"Testing Shape: \" , str(X_test.shape))"
   ]
  },
  {
   "cell_type": "code",
   "execution_count": 7,
   "metadata": {},
   "outputs": [],
   "source": [
    "in_encoder = Normalizer('l2')\n",
    "out_encoder = LabelEncoder()\n",
    "X_train = in_encoder.transform(X_train)\n",
    "X_test = in_encoder.transform(X_test)"
   ]
  },
  {
   "cell_type": "code",
   "execution_count": 8,
   "metadata": {},
   "outputs": [
    {
     "data": {
      "text/plain": [
       "SVC(kernel='linear')"
      ]
     },
     "execution_count": 8,
     "metadata": {},
     "output_type": "execute_result"
    }
   ],
   "source": [
    "model = SVC(kernel=\"linear\")\n",
    "model.fit(X_train , Y_train)"
   ]
  },
  {
   "cell_type": "code",
   "execution_count": 9,
   "metadata": {},
   "outputs": [
    {
     "name": "stdout",
     "output_type": "stream",
     "text": [
      "training score:  1.0\n",
      "testing score:  1.0\n"
     ]
    }
   ],
   "source": [
    "train_pred = model.predict(X_train)\n",
    "test_pred = model.predict(X_test)\n",
    "score_train = accuracy_score(train_pred , Y_train)\n",
    "score_test = accuracy_score(test_pred , Y_test)\n",
    "print(\"training score: \" , str(score_train))\n",
    "print(\"testing score: \" , str(score_test))"
   ]
  },
  {
   "cell_type": "code",
   "execution_count": 11,
   "metadata": {},
   "outputs": [
    {
     "ename": "InvalidImage",
     "evalue": "Image not valid.",
     "output_type": "error",
     "traceback": [
      "\u001b[1;31m---------------------------------------------------------------------------\u001b[0m",
      "\u001b[1;31mInvalidImage\u001b[0m                              Traceback (most recent call last)",
      "\u001b[1;32m~\\AppData\\Local\\Temp\\ipykernel_21524\\2873556167.py\u001b[0m in \u001b[0;36m<module>\u001b[1;34m\u001b[0m\n\u001b[0;32m      1\u001b[0m \u001b[0mimg_path\u001b[0m \u001b[1;33m=\u001b[0m \u001b[1;34m\"FaceDetection\\\\images\\\\tom-hiddleston-loki.jpg\"\u001b[0m\u001b[1;33m\u001b[0m\u001b[1;33m\u001b[0m\u001b[0m\n\u001b[0;32m      2\u001b[0m \u001b[0mdetector\u001b[0m \u001b[1;33m=\u001b[0m \u001b[0mMTCNN\u001b[0m\u001b[1;33m(\u001b[0m\u001b[1;33m)\u001b[0m\u001b[1;33m\u001b[0m\u001b[1;33m\u001b[0m\u001b[0m\n\u001b[1;32m----> 3\u001b[1;33m \u001b[0mresult\u001b[0m \u001b[1;33m=\u001b[0m \u001b[0mdetector\u001b[0m\u001b[1;33m.\u001b[0m\u001b[0mdetect_faces\u001b[0m\u001b[1;33m(\u001b[0m\u001b[0mcv\u001b[0m\u001b[1;33m.\u001b[0m\u001b[0mimread\u001b[0m\u001b[1;33m(\u001b[0m\u001b[0mimg_path\u001b[0m\u001b[1;33m)\u001b[0m\u001b[1;33m)\u001b[0m\u001b[1;33m\u001b[0m\u001b[1;33m\u001b[0m\u001b[0m\n\u001b[0m\u001b[0;32m      4\u001b[0m \u001b[0mprint\u001b[0m\u001b[1;33m(\u001b[0m\u001b[0mresult\u001b[0m\u001b[1;33m)\u001b[0m\u001b[1;33m\u001b[0m\u001b[1;33m\u001b[0m\u001b[0m\n",
      "\u001b[1;32m~\\AppData\\Local\\Programs\\Python\\Python39\\lib\\site-packages\\mtcnn\\mtcnn.py\u001b[0m in \u001b[0;36mdetect_faces\u001b[1;34m(self, img)\u001b[0m\n\u001b[0;32m    283\u001b[0m         \"\"\"\n\u001b[0;32m    284\u001b[0m         \u001b[1;32mif\u001b[0m \u001b[0mimg\u001b[0m \u001b[1;32mis\u001b[0m \u001b[1;32mNone\u001b[0m \u001b[1;32mor\u001b[0m \u001b[1;32mnot\u001b[0m \u001b[0mhasattr\u001b[0m\u001b[1;33m(\u001b[0m\u001b[0mimg\u001b[0m\u001b[1;33m,\u001b[0m \u001b[1;34m\"shape\"\u001b[0m\u001b[1;33m)\u001b[0m\u001b[1;33m:\u001b[0m\u001b[1;33m\u001b[0m\u001b[1;33m\u001b[0m\u001b[0m\n\u001b[1;32m--> 285\u001b[1;33m             \u001b[1;32mraise\u001b[0m \u001b[0mInvalidImage\u001b[0m\u001b[1;33m(\u001b[0m\u001b[1;34m\"Image not valid.\"\u001b[0m\u001b[1;33m)\u001b[0m\u001b[1;33m\u001b[0m\u001b[1;33m\u001b[0m\u001b[0m\n\u001b[0m\u001b[0;32m    286\u001b[0m \u001b[1;33m\u001b[0m\u001b[0m\n\u001b[0;32m    287\u001b[0m         \u001b[0mheight\u001b[0m\u001b[1;33m,\u001b[0m \u001b[0mwidth\u001b[0m\u001b[1;33m,\u001b[0m \u001b[0m_\u001b[0m \u001b[1;33m=\u001b[0m \u001b[0mimg\u001b[0m\u001b[1;33m.\u001b[0m\u001b[0mshape\u001b[0m\u001b[1;33m\u001b[0m\u001b[1;33m\u001b[0m\u001b[0m\n",
      "\u001b[1;31mInvalidImage\u001b[0m: Image not valid."
     ]
    }
   ],
   "source": [
    "img_path = \"images\\\\tom-hiddleston-loki.jpg\"\n",
    "detector = MTCNN()\n",
    "result = detector.detect_faces(cv.imread(img_path))\n",
    "print(result)"
   ]
  },
  {
   "cell_type": "code",
   "execution_count": null,
   "metadata": {},
   "outputs": [],
   "source": []
  }
 ],
 "metadata": {
  "interpreter": {
   "hash": "d7dadea416afbc86413a9c9b9fb8ddc05a3e87d3f5dbb088eabd6e49e45b1aca"
  },
  "kernelspec": {
   "display_name": "Python 3.9.7 64-bit",
   "language": "python",
   "name": "python3"
  },
  "language_info": {
   "codemirror_mode": {
    "name": "ipython",
    "version": 3
   },
   "file_extension": ".py",
   "mimetype": "text/x-python",
   "name": "python",
   "nbconvert_exporter": "python",
   "pygments_lexer": "ipython3",
   "version": "3.9.7"
  },
  "orig_nbformat": 4
 },
 "nbformat": 4,
 "nbformat_minor": 2
}
