{
 "cells": [
  {
   "cell_type": "code",
   "execution_count": 3,
   "metadata": {},
   "outputs": [],
   "source": [
    "from mtcnn.mtcnn import MTCNN\n",
    "import cv2 as cv\n",
    "import numpy as np\n",
    "import pywt\n",
    "import os\n",
    "import uuid\n",
    "from picturescrape import pinterestScraper"
   ]
  },
  {
   "cell_type": "markdown",
   "metadata": {},
   "source": [
    "PATHS"
   ]
  },
  {
   "cell_type": "code",
   "execution_count": 6,
   "metadata": {},
   "outputs": [],
   "source": [
    "IMAGES_PATH = os.path.join(\"images\")\n",
    "CROPPED_IMAGE_PATH = os.path.join(\"images\" , \"cropped_images\")"
   ]
  },
  {
   "cell_type": "markdown",
   "metadata": {},
   "source": [
    "Scraping pinterest by calling pinterestscraper() from picturescrape.py"
   ]
  },
  {
   "cell_type": "code",
   "execution_count": null,
   "metadata": {},
   "outputs": [],
   "source": [
    "names = [\"Virat Kohli Portrait\" , \"Anushka Sharma\"]\n",
    "scraper = pinterestScraper()\n",
    "scraper.login(\"username\" , \"password\")\n",
    "for name in names:\n",
    "    scraper.search_init(name)\n",
    "    scraper.get_photos(10 , folder_path=\"images\")\n",
    "scraper.close()"
   ]
  },
  {
   "cell_type": "markdown",
   "metadata": {},
   "source": [
    "Creating a subdirectory in images folder for cropped images"
   ]
  },
  {
   "cell_type": "code",
   "execution_count": 10,
   "metadata": {},
   "outputs": [],
   "source": [
    "if not os.path.exists(IMAGES_PATH):\n",
    "    print(\"FIRST UPLOAD IMAGES TO THE IMAGES FOLDER EITHER MANUALLY OR USING picturescrape.py\")\n",
    "else:\n",
    "    labels = os.listdir(IMAGES_PATH)\n",
    "    !cd images && mkdir \"cropped_images\"\n",
    "    for label in labels:\n",
    "        !cd images && cd cropped_images && mkdir \"cropped_{label}\""
   ]
  },
  {
   "cell_type": "markdown",
   "metadata": {},
   "source": [
    "DETECTING AND CROPPING THE FACES "
   ]
  },
  {
   "cell_type": "code",
   "execution_count": 3,
   "metadata": {},
   "outputs": [],
   "source": [
    "def detectAndCrop(detector , image ,path=os.getcwd() , padding= 0):\n",
    "    result = detector.detect_faces(image)\n",
    "    for faces in result:\n",
    "        (x , y , w , h) = faces['box']\n",
    "        cropped_img = img[y-padding:y+h+padding , x-padding:x+w+padding]\n",
    "        cv.imwrite(os.path.join(path , str(uuid.uuid4()) + \".png\") , cropped_img)"
   ]
  },
  {
   "cell_type": "code",
   "execution_count": 12,
   "metadata": {},
   "outputs": [
    {
     "name": "stdout",
     "output_type": "stream",
     "text": [
      "WARNING:tensorflow:5 out of the last 11 calls to <function Model.make_predict_function.<locals>.predict_function at 0x000001DC3740FCA0> triggered tf.function retracing. Tracing is expensive and the excessive number of tracings could be due to (1) creating @tf.function repeatedly in a loop, (2) passing tensors with different shapes, (3) passing Python objects instead of tensors. For (1), please define your @tf.function outside of the loop. For (2), @tf.function has experimental_relax_shapes=True option that relaxes argument shapes that can avoid unnecessary retracing. For (3), please refer to https://www.tensorflow.org/guide/function#controlling_retracing and https://www.tensorflow.org/api_docs/python/tf/function for  more details.\n"
     ]
    }
   ],
   "source": [
    "detector = MTCNN()\n",
    "for label in labels:\n",
    "    if os.path.exists(os.path.join(IMAGES_PATH , label)):\n",
    "        images = os.listdir(os.path.join(IMAGES_PATH , label))\n",
    "        for image in images:\n",
    "            img = os.path.join(IMAGES_PATH ,label , image)\n",
    "            if (os.path.exists(img)):\n",
    "                img = cv.imread(img)\n",
    "                detectAndCrop(detector , img , os.path.join(CROPPED_IMAGE_PATH , f\"cropped_{label}\"))"
   ]
  }
 ],
 "metadata": {
  "kernelspec": {
   "display_name": "Python 3 (ipykernel)",
   "language": "python",
   "name": "python3"
  },
  "language_info": {
   "codemirror_mode": {
    "name": "ipython",
    "version": 3
   },
   "file_extension": ".py",
   "mimetype": "text/x-python",
   "name": "python",
   "nbconvert_exporter": "python",
   "pygments_lexer": "ipython3",
   "version": "3.9.7"
  }
 },
 "nbformat": 4,
 "nbformat_minor": 2
}
